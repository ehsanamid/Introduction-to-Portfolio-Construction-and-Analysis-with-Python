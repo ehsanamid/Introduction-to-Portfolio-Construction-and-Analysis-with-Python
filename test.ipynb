{
 "cells": [
  {
   "cell_type": "code",
   "execution_count": null,
   "metadata": {},
   "outputs": [],
   "source": [
    "l = [[1,1],[2,2]]*2\n",
    "l"
   ]
  },
  {
   "cell_type": "code",
   "execution_count": null,
   "metadata": {},
   "outputs": [],
   "source": [
    "l.append([1,1])\n",
    "l"
   ]
  },
  {
   "cell_type": "code",
   "execution_count": null,
   "metadata": {},
   "outputs": [],
   "source": [
    "l[0][0] = 3\n",
    "l\n"
   ]
  },
  {
   "cell_type": "code",
   "execution_count": null,
   "metadata": {},
   "outputs": [],
   "source": [
    "print(\"HeLlO\".lower())"
   ]
  },
  {
   "cell_type": "code",
   "execution_count": null,
   "metadata": {},
   "outputs": [],
   "source": [
    "print(\"HeLlO\".lower())"
   ]
  },
  {
   "cell_type": "code",
   "execution_count": null,
   "metadata": {},
   "outputs": [],
   "source": [
    "print(\"HaVE A GrEAt DaY!\".swapcase())"
   ]
  },
  {
   "cell_type": "code",
   "execution_count": null,
   "metadata": {},
   "outputs": [],
   "source": [
    "\n",
    "\"Total: $6.33\".startswith(\"Total:\")"
   ]
  },
  {
   "cell_type": "code",
   "execution_count": null,
   "metadata": {},
   "outputs": [],
   "source": [
    "\"watch out!\".islower()"
   ]
  },
  {
   "cell_type": "code",
   "execution_count": null,
   "metadata": {},
   "outputs": [],
   "source": [
    "\"Welcome to an introduction to coding\".replace(\"o\", \"u\")"
   ]
  },
  {
   "cell_type": "code",
   "execution_count": null,
   "metadata": {},
   "outputs": [],
   "source": [
    "\"excited\".capitalize()"
   ]
  },
  {
   "cell_type": "code",
   "execution_count": null,
   "metadata": {},
   "outputs": [],
   "source": [
    "def word_swapper(sentence, word):\n",
    "   return sentence.replace(word,'ABC')\n",
    "\n",
    "print(word_swapper('This is a sentence.', 'is'))\n",
    "print(word_swapper('coding is cool but coding is hard!', 'cod')) "
   ]
  },
  {
   "cell_type": "code",
   "execution_count": null,
   "metadata": {},
   "outputs": [],
   "source": [
    "def find_word(sentence, word):\n",
    "    return sentence.index(word)\n",
    "\n",
    "print(find_word('stubby tubby chubby gubby', 'tubby'))\n",
    "print(find_word('1213141516171819', '1'))"
   ]
  },
  {
   "cell_type": "code",
   "execution_count": null,
   "metadata": {},
   "outputs": [],
   "source": [
    "def count_word(sentence, word):\n",
    "    return sentence.count(word)\n",
    "\n",
    "print(count_word('stubby tubby chubby gubby', 'tubby'))\n",
    "print(count_word('1213141516171819', '1'))"
   ]
  },
  {
   "cell_type": "code",
   "execution_count": null,
   "metadata": {},
   "outputs": [],
   "source": [
    "def top_and_tail(string):\n",
    "    str1 = string[:-1]\n",
    "    return str1[1:len(str1)]\n",
    "\n",
    "print(top_and_tail('stubby'))\n",
    "\n",
    "print(top_and_tail('another test string'))\n",
    "print(top_and_tail('a'))\n"
   ]
  },
  {
   "cell_type": "code",
   "execution_count": null,
   "metadata": {},
   "outputs": [],
   "source": [
    "def half_string(string):\n",
    "    n = len(string)//2\n",
    "    return string[:n]\n",
    "\n",
    "print(half_string('stubby'))\n",
    "print(half_string('hello'))\n",
    "print(half_string('spongebob'))"
   ]
  },
  {
   "cell_type": "code",
   "execution_count": null,
   "metadata": {},
   "outputs": [],
   "source": [
    "def second_half_string(string): \n",
    "    return string[len(string)//2:len(string)]\n",
    "\n",
    "print(second_half_string('stubby'))\n",
    "print(second_half_string('hello'))\n",
    "print(second_half_string('spongebob'))"
   ]
  },
  {
   "cell_type": "code",
   "execution_count": null,
   "metadata": {},
   "outputs": [],
   "source": [
    "def first_nth_string(string, n):\n",
    "    return string[:n]\n",
    "\n",
    "item = first_nth_string(\"this is some string\", 4)\n",
    "print(item)\n",
    "\n",
    "item = first_nth_string(\"this is some string\", 7)\n",
    "print(item)"
   ]
  },
  {
   "cell_type": "code",
   "execution_count": null,
   "metadata": {},
   "outputs": [],
   "source": [
    "def full_name(first_name, last_name):\n",
    "    return f\"{first_name} {last_name}\"\n",
    "\n",
    "name = full_name('Alex', 'Ng')\n",
    "print(name)\n",
    "\n",
    "print(full_name('Malcolm', 'X'))"
   ]
  },
  {
   "cell_type": "code",
   "execution_count": null,
   "metadata": {},
   "outputs": [],
   "source": [
    "def sorted_items(data):\n",
    "    data.sort()\n",
    "    return data\n",
    "\n",
    "count = sorted_items([1, 2, 3, 4, 5])\n",
    "print(count)\n",
    "\n",
    "count = sorted_items([1, 2, 1, 2, 1, 2])\n",
    "print(count)"
   ]
  },
  {
   "cell_type": "code",
   "execution_count": null,
   "metadata": {},
   "outputs": [],
   "source": [
    "def append_item(data, item):\n",
    "    data.append(item)\n",
    "    return data\n",
    "\n",
    "count = append_item([1, 2, 3, 4, 5], 1)\n",
    "print(count)\n",
    "\n",
    "count = append_item([1, 2, 1, 2, 1, 2], 2)\n",
    "print(count)"
   ]
  },
  {
   "cell_type": "code",
   "execution_count": null,
   "metadata": {},
   "outputs": [],
   "source": [
    "def second(data):\n",
    "    return data[1]\n",
    "\n",
    "item = second([10, 20, 30, 40, 50])\n",
    "print(item)\n",
    "\n",
    "item = second(['cat', 'dog', 'cow', 'chicken', 'crow'])\n",
    "print(item)"
   ]
  },
  {
   "cell_type": "code",
   "execution_count": null,
   "metadata": {},
   "outputs": [],
   "source": [
    "def insert_item_end(data, item):\n",
    "    data.insert(len(data),item)\n",
    "    return data\n",
    "\n",
    "count = insert_item_end([1, 2, 3, 4, 5], 1)\n",
    "print(count)\n",
    "\n",
    "count = insert_item_end([1, 2, 1, 2, 1, 2], 2)\n",
    "print(count)"
   ]
  },
  {
   "cell_type": "code",
   "execution_count": 7,
   "metadata": {},
   "outputs": [
    {
     "name": "stderr",
     "output_type": "stream",
     "text": [
      "5.20s - Error inserting pydevd breaks.\n",
      "Traceback (most recent call last):\n",
      "  File \"c:\\Users\\Administrator\\AppData\\Local\\Programs\\Python\\Python310\\lib\\site-packages\\debugpy\\_vendored\\pydevd\\_pydevd_frame_eval\\pydevd_modify_bytecode.py\", line 328, in insert_pydevd_breaks\n",
      "    for new_instruction in get_instructions_to_add(\n",
      "  File \"c:\\Users\\Administrator\\AppData\\Local\\Programs\\Python\\Python310\\lib\\site-packages\\debugpy\\_vendored\\pydevd\\_pydevd_frame_eval\\pydevd_modify_bytecode.py\", line 102, in get_instructions_to_add\n",
      "    Instr(\"LOAD_CONST\", _pydev_stop_at_break, lineno=stop_at_line - 1),\n",
      "  File \"c:\\Users\\Administrator\\AppData\\Local\\Programs\\Python\\Python310\\lib\\site-packages\\debugpy\\_vendored\\pydevd\\_pydevd_frame_eval\\vendored\\bytecode\\instr.py\", line 171, in __init__\n",
      "    self._set(name, arg, lineno)\n",
      "  File \"c:\\Users\\Administrator\\AppData\\Local\\Programs\\Python\\Python310\\lib\\site-packages\\debugpy\\_vendored\\pydevd\\_pydevd_frame_eval\\vendored\\bytecode\\instr.py\", line 239, in _set\n",
      "    _check_lineno(lineno)\n",
      "  File \"c:\\Users\\Administrator\\AppData\\Local\\Programs\\Python\\Python310\\lib\\site-packages\\debugpy\\_vendored\\pydevd\\_pydevd_frame_eval\\vendored\\bytecode\\instr.py\", line 74, in _check_lineno\n",
      "    raise ValueError(\"invalid lineno\")\n",
      "ValueError: invalid lineno\n"
     ]
    }
   ],
   "source": [
    "def append_list_new(data1, data2):\n",
    "    data1.extend(data2)\n",
    "    return data1\n",
    "\n",
    "count = append_list_new([1, 2, 3, 4, 5], [1])\n",
    "print(count)\n",
    "\n",
    "count = append_list_new([1, 2, 1, 2, 1, 2], [2, 3, 4, 5])\n",
    "print(count)\n",
    "test_list = [10, 20, 30]\n",
    "count = append_list_new(test_list, [1])\n",
    "test_list[0] = 5\n",
    "if count != [10, 20, 30, 1]:\n",
    "    print(\"Your new list is still referencing old lists!\")"
   ]
  },
  {
   "cell_type": "code",
   "execution_count": null,
   "metadata": {},
   "outputs": [],
   "source": [
    "def append_list_new(data1, data2):\n",
    "    return data1+data2\n",
    "\n",
    "count = append_list_new([1, 2, 3, 4, 5], [1])\n",
    "print(count)\n",
    "\n",
    "count = append_list_new([1, 2, 1, 2, 1, 2], [2, 3, 4, 5])\n",
    "print(count)"
   ]
  },
  {
   "cell_type": "code",
   "execution_count": null,
   "metadata": {},
   "outputs": [],
   "source": [
    "def last(data):\n",
    "    return data[len(data)-1]\n",
    "\n",
    "last_item = last([10, 20, 40])\n",
    "print(last_item)\n",
    "\n",
    "last_item = last([1])\n",
    "print(last_item)"
   ]
  },
  {
   "cell_type": "code",
   "execution_count": null,
   "metadata": {},
   "outputs": [],
   "source": [
    "def remove(data):\n",
    "    data.pop(2)    \n",
    "    return data\n",
    "\n",
    "last_item = remove([10, 20, 40, 80])\n",
    "print(last_item)\n",
    "\n",
    "last_item = remove([1, 2, 3, 4, 5])\n",
    "print(last_item)"
   ]
  },
  {
   "cell_type": "code",
   "execution_count": null,
   "metadata": {},
   "outputs": [],
   "source": [
    "def nth_item(data, n):\n",
    "    return data\n",
    "\n",
    "item = nth_item([10, 20, 30], 0)\n",
    "print(item)\n",
    "\n",
    "item = nth_item(['bob', 'carol', 'ted', 'alice'], 3)\n",
    "print(item)"
   ]
  },
  {
   "cell_type": "code",
   "execution_count": null,
   "metadata": {},
   "outputs": [],
   "source": [
    "def duplicate_last(data):\n",
    "    data1 = data.copy()\n",
    "    data1.append(data1[len(data1)-1])\n",
    "    return data1\n",
    "\n",
    "da = [1,2,3]\n",
    "item = duplicate_last(da)\n",
    "print(da)\n",
    "print(item)\n",
    "\n",
    "\n",
    "item = duplicate_last([1,2,3])\n",
    "print(item)\n",
    "\n",
    "item = duplicate_last(['hi'])\n",
    "print(item)"
   ]
  },
  {
   "cell_type": "code",
   "execution_count": null,
   "metadata": {},
   "outputs": [],
   "source": [
    "def cubed_tuple(number):\n",
    "    ret = (number,number**3)\n",
    "    return ret\n",
    "\n",
    "print(cubed_tuple(1))\n",
    "\n",
    "print(cubed_tuple(3))"
   ]
  },
  {
   "cell_type": "code",
   "execution_count": null,
   "metadata": {},
   "outputs": [],
   "source": [
    "def list_swap(lst):\n",
    "    if(len(lst) == 0):\n",
    "        l = len(lst)\n",
    "    else:\n",
    "        l = len(lst)-1\n",
    "    \n",
    "    for i in range(0,l,2):\n",
    "        t = lst[i]\n",
    "        lst[i] = lst[i+1]\n",
    "        lst[i+1] = t\n",
    "    return lst\n",
    "\n",
    "print(list_swap([1,2,3,4,5]))\n",
    "\n",
    "print(list_swap([12,32,54,24,51,23.54]))"
   ]
  },
  {
   "cell_type": "code",
   "execution_count": null,
   "metadata": {},
   "outputs": [],
   "source": [
    "def num_words(string):\n",
    "    return len(string.split())\n",
    "\n",
    "word_count = num_words(\"Welcome to lists!\")\n",
    "print(word_count)\n",
    "\n",
    "word_count = num_words(\"thi01234&*9 &^%x 1\")\n",
    "print(word_count)"
   ]
  },
  {
   "cell_type": "code",
   "execution_count": null,
   "metadata": {},
   "outputs": [],
   "source": [
    "def list_sorting(lst1,lst2):\n",
    "    new_list = []\n",
    "    for i in range(len(lst1)):\n",
    "        new_list.append([lst1[i],lst2[i]])\n",
    "    \n",
    "    return new_list"
   ]
  }
 ],
 "metadata": {
  "kernelspec": {
   "display_name": "Python 3.10.4 64-bit",
   "language": "python",
   "name": "python3"
  },
  "language_info": {
   "codemirror_mode": {
    "name": "ipython",
    "version": 3
   },
   "file_extension": ".py",
   "mimetype": "text/x-python",
   "name": "python",
   "nbconvert_exporter": "python",
   "pygments_lexer": "ipython3",
   "version": "3.10.4"
  },
  "orig_nbformat": 4,
  "vscode": {
   "interpreter": {
    "hash": "3196968d684371006099b3d55edeef8ed90365227a30deaef86e5d4aa8519be0"
   }
  }
 },
 "nbformat": 4,
 "nbformat_minor": 2
}
